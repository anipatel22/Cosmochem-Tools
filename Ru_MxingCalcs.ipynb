{
  "nbformat": 4,
  "nbformat_minor": 0,
  "metadata": {
    "colab": {
      "name": "Ru_MxingCalcs.ipynb",
      "provenance": [],
      "collapsed_sections": [
        "yOAILJ3pl2kp",
        "lCdyt8_QXhz8"
      ],
      "authorship_tag": "ABX9TyMxigwFEY0N/NMKzSq6jZ/s",
      "include_colab_link": true
    },
    "kernelspec": {
      "display_name": "Python 3",
      "name": "python3"
    },
    "language_info": {
      "name": "python"
    }
  },
  "cells": [
    {
      "cell_type": "markdown",
      "metadata": {
        "id": "view-in-github",
        "colab_type": "text"
      },
      "source": [
        "<a href=\"https://colab.research.google.com/github/anipatel22/MixingCalcs/blob/main/Ru_MxingCalcs.ipynb\" target=\"_parent\"><img src=\"https://colab.research.google.com/assets/colab-badge.svg\" alt=\"Open In Colab\"/></a>"
      ]
    },
    {
      "cell_type": "markdown",
      "source": [
        "**IMPORT PACKAGES** \n",
        "---"
      ],
      "metadata": {
        "id": "YKTpn4w76QXY"
      }
    },
    {
      "cell_type": "code",
      "metadata": {
        "id": "SG5zfzSTirnP"
      },
      "source": [
        "from data_processor import *"
      ],
      "execution_count": null,
      "outputs": []
    },
    {
      "cell_type": "code",
      "source": [
        "# !git clone"
      ],
      "metadata": {
        "id": "t-jYkYIvWETX"
      },
      "execution_count": null,
      "outputs": []
    },
    {
      "cell_type": "code",
      "metadata": {
        "id": "uMJMUKN8Ryjr"
      },
      "source": [
        "import sys, io, requests\n",
        "import math"
      ],
      "execution_count": null,
      "outputs": []
    },
    {
      "cell_type": "code",
      "metadata": {
        "id": "izwwvdx_gdAL"
      },
      "source": [
        "import matplotlib as mpl\n",
        "import matplotlib.pyplot as plt\n",
        "import numpy as np\n",
        "from pylab import cm\n",
        "from matplotlib import rcParams"
      ],
      "execution_count": null,
      "outputs": []
    },
    {
      "cell_type": "markdown",
      "metadata": {
        "id": "yOAILJ3pl2kp"
      },
      "source": [
        "**DATA PROCESSING** \n",
        "---\n",
        "for Ru Isotopes [99, 100, 101, 102, 104]\n"
      ]
    },
    {
      "cell_type": "markdown",
      "metadata": {
        "id": "7l6cSGShoMIN"
      },
      "source": [
        "Solar"
      ]
    },
    {
      "cell_type": "code",
      "metadata": {
        "colab": {
          "base_uri": "https://localhost:8080/"
        },
        "id": "lTfJ3PFWoJwF",
        "outputId": "97ebf42a-6d87-4e21-8a64-e1dd8ecc3d71"
      },
      "source": [
        "sol_raw = [0.100, 0.034, 0.230, 0.228, 0.308, 0.57, 0.336] #Abundances from lodders 2020\n",
        "\n",
        "sol_iso_ratio = get_iso_ratio(sol_raw, .308)\n",
        "sol_mfrac = get_mfrac(sol_iso_ratio)\n",
        "sol_mfrac.pop(0), sol_mfrac.pop(0)\n",
        "sol_iso_ratio.pop(0), sol_iso_ratio.pop(0)\n",
        "print(sol_mfrac)"
      ],
      "execution_count": null,
      "outputs": [
        {
          "output_type": "stream",
          "name": "stdout",
          "text": [
            "[0.12735326688815063, 0.12624584717607976, 0.17054263565891473, 0.3156146179401993, 0.186046511627907]\n"
          ]
        }
      ]
    },
    {
      "cell_type": "markdown",
      "metadata": {
        "id": "kYIz9C118Qv0"
      },
      "source": [
        "Terrestrial (N1)"
      ]
    },
    {
      "cell_type": "code",
      "metadata": {
        "colab": {
          "base_uri": "https://localhost:8080/"
        },
        "id": "zkHpBqkz8UkW",
        "outputId": "68701357-901f-4546-9bca-6ef9ea9e8632"
      },
      "source": [
        "AAS_A = [0.322032, 0.108982, 0.7450754,\t0.737053, 1,\t1.853321,\t1.097781] #terrestrial standard in isotopic ratio (over Ru 101)\n",
        "AAS_B =[0.321969, 0.108974, 0.7450754,\t0.737053, 1,\t1.853290,\t1.097599]\n",
        "AAS_C = [0.322379, 0.109013, 0.7450754,\t0.736944, 1,\t1.852226,\t1.095726]\n",
        "\n",
        "AAS_mfrac_A = get_mfrac(AAS_A)\n",
        "AAS_mfrac_B = get_mfrac(AAS_B)\n",
        "AAS_mfrac_C = get_mfrac(AAS_C)\n",
        "AAS_mfrac_A.pop(0), AAS_mfrac_A.pop(0), AAS_mfrac_B.pop(0), AAS_mfrac_B.pop(0), AAS_mfrac_C.pop(0), AAS_mfrac_C.pop(0)\n",
        "print()"
      ],
      "execution_count": null,
      "outputs": [
        {
          "output_type": "stream",
          "name": "stdout",
          "text": [
            "\n"
          ]
        }
      ]
    },
    {
      "cell_type": "markdown",
      "metadata": {
        "id": "Q3Gx64ijoECj"
      },
      "source": [
        "S-Process (N2)"
      ]
    },
    {
      "cell_type": "code",
      "metadata": {
        "colab": {
          "base_uri": "https://localhost:8080/"
        },
        "id": "DJ5aVWFwl5R8",
        "outputId": "57593424-94ab-4604-ca65-6696e78c55df"
      },
      "source": [
        "PSG_s_raw = [-628.4444444, 0, -687.8888889, -411.8333333, -824.8333333] # average s-process in delta notation taken from presolar grain database\n",
        "\n",
        "PSG_s_iso_ratio = to_iso_ratio(PSG_s_raw, sol_iso_ratio, 'delta')\n",
        "print(PSG_s_iso_ratio)\n",
        "PSG_s_mfrac = get_mfrac(PSG_s_iso_ratio)\n",
        "print(PSG_s_mfrac)\n",
        "\n",
        "calc_s_raw = [0.0669, 0.223, 0.0483, 0.253, 0.00952] #Abundances from Arlandini\n",
        "calc_s_ratio = get_iso_ratio(calc_s_raw, .223)\n",
        "print(calc_s_ratio)\n",
        "\n",
        "calc_s_mfrac = get_mfrac(calc_s_ratio)\n",
        "print(calc_s_mfrac)"
      ],
      "execution_count": null,
      "outputs": [
        {
          "output_type": "stream",
          "name": "stdout",
          "text": [
            "[0.2774603174935066, 0.7402597402597403, 0.3121111111, 1.0884902598019481, 0.19109090912727267]\n",
            "[0.10633057622824689, 0.28368829622719893, 0.11960973226839207, 0.4171399989343844, 0.07323139634177772]\n",
            "[0.3, 1.0, 0.21659192825112109, 1.1345291479820627, 0.04269058295964126]\n",
            "[0.11136636036755891, 0.3712212012251964, 0.08040351578106272, 0.42116127313889995, 0.01584764948728193]\n"
          ]
        }
      ]
    },
    {
      "cell_type": "markdown",
      "metadata": {
        "id": "6-eZdCH_pEkv"
      },
      "source": [
        "Istaq geniss complex (IGC) (N_obs)\n"
      ]
    },
    {
      "cell_type": "code",
      "metadata": {
        "colab": {
          "base_uri": "https://localhost:8080/"
        },
        "id": "qhjuiCY2pGIY",
        "outputId": "ee383961-92bc-4684-f92d-1d26b7b50fe5"
      },
      "source": [
        "IGC_iso_ratio_A = [0.322033, 0.108984, 0.745075,\t0.737062, 1,\t1.853339,\t1.097794]\n",
        "IGC_iso_ratio_B = [0.321963, 0.108975, 0.745075,\t0.737062,\t1, 1.853309,\t1.097607]\n",
        "IGC_iso_ratio_C = [0.322374, 0.109013, 0.745075,\t0.736962,\t1, 1.852243,\t1.095718]\n",
        "\n",
        "IGC_mfrac_A = get_mfrac(IGC_iso_ratio_A)\n",
        "IGC_mfrac_B = get_mfrac(IGC_iso_ratio_B)\n",
        "IGC_mfrac_C = get_mfrac(IGC_iso_ratio_C)\n",
        "IGC_mfrac_A.pop(0), IGC_mfrac_A.pop(0), IGC_mfrac_B.pop(0), IGC_mfrac_B.pop(0), IGC_mfrac_C.pop(0), IGC_mfrac_C.pop(0)\n",
        "print()\n"
      ],
      "execution_count": null,
      "outputs": [
        {
          "output_type": "stream",
          "name": "stdout",
          "text": [
            "\n"
          ]
        }
      ]
    },
    {
      "cell_type": "code",
      "source": [
        "X_obsA = IGC_mfrac_A                                                                        \n",
        "X1A = AAS_mfrac_A\n",
        "\n",
        "X_obsB = IGC_mfrac_B                                                                        \n",
        "X1B = AAS_mfrac_B \n",
        "\n",
        "X_obsC = IGC_mfrac_C                                                                        \n",
        "X1C = AAS_mfrac_C\n",
        "\n",
        "X2 = PSG_s_mfrac\n",
        "X2_calc = calc_s_mfrac    \n",
        "\n",
        "Mr = [98.905930, 99.904211, 100.905573, 101.904340, 103.90543] \n",
        "AN = 6.0221409E23\n",
        "N1A = []\n",
        "N1B = []\n",
        "N1C = []\n",
        "N2 = []\n",
        "N2_calc = []\n",
        "N_obsA = []\n",
        "N_obsB = []\n",
        "N_obsC = []\n",
        "\n",
        "for i in range(len(X1A)):\n",
        "  N1A.append((X1A[i]/Mr[i])*AN)\n",
        "for i in range(len(X1B)):\n",
        "  N1B.append((X1B[i]/Mr[i])*AN)\n",
        "for i in range(len(X1C)):\n",
        "  N1C.append((X1C[i]/Mr[i])*AN)\n",
        "\n",
        "for i in range(len(X2)):\n",
        "  N2.append((X2[i]/Mr[i])*AN)\n",
        "\n",
        "for i in range(len(X2_calc)):\n",
        "  N2_calc.append((X2_calc[i]/Mr[i])*AN)\n",
        "\n",
        "for i in range(len(X_obsA)):\n",
        "  N_obsA.append((X_obsA[i]/Mr[i])*AN)\n",
        "for i in range(len(X_obsB)):\n",
        "  N_obsB.append((X_obsB[i]/Mr[i])*AN)\n",
        "for i in range(len(X_obsA)):\n",
        "  N_obsC.append((X_obsC[i]/Mr[i])*AN)\n",
        "\n",
        "print(N1A)\n",
        "print(N2)\n",
        "print(N2_calc)\n",
        "print(N_obsA)"
      ],
      "metadata": {
        "colab": {
          "base_uri": "https://localhost:8080/"
        },
        "id": "1kuNzsbMO-S0",
        "outputId": "87abb0d1-64c6-4751-9c04-633ddecf3843"
      },
      "execution_count": null,
      "outputs": [
        {
          "output_type": "stream",
          "name": "stdout",
          "text": [
            "[7.736005046594015e+20, 7.576240886840333e+20, 1.0177091935474883e+21, 1.8676556968632753e+21, 1.084966469335999e+21]\n",
            "[6.474209504169198e+20, 1.7100489303310053e+21, 7.138422976216919e+20, 2.4651313659542986e+21, 4.2443382128723205e+20]\n",
            "[6.780826120876833e+20, 2.237689839565807e+21, 4.79855855819711e+20, 2.488895495977738e+21, 9.184965419634426e+19]\n",
            "[7.73594469674422e+20, 7.576278361896786e+20, 1.0177018005921903e+21, 1.8676602687239383e+21, 1.084971435959076e+21]\n"
          ]
        }
      ]
    },
    {
      "cell_type": "markdown",
      "metadata": {
        "id": "oOhPtfwlRJCQ"
      },
      "source": [
        "**MIXING CALCULATIONS**\n",
        "---"
      ]
    },
    {
      "cell_type": "markdown",
      "metadata": {
        "id": "uPBIEZHtT7CU"
      },
      "source": [
        "Defenition of variables:\n",
        "*   'isotope' is a list storing strigs of the isotopes of interest.\n",
        "*   'N_obs' is a list with observed mass fraction values that we are trying to reproduce and match with the calculations.\n",
        "*   'N1' is a list with mass fraction values of the the first reservoir we are mixing with 'N2'. (Modern Mantle mass fractions)\n",
        "*   'N2' is a list with mass fraction values of the secondary constituent reservoir we are mixing with 'N1'. (Solar System s-process mass fractions)\n",
        "*   'N_calc' is a list to store the calculated mass fractions. \n",
        "*   F is the 'mixing factor' which we are testing. Ex: If F = 0.05, then there is 5% excess of N2 material added to N1 which produces the values in N_calc.\n",
        "*   'Ndiff' the mass fraction difference between calculated and observed. This helps determine which F is best fit.\n",
        "\n",
        "\n",
        "\n"
      ]
    },
    {
      "cell_type": "code",
      "metadata": {
        "id": "JH2vKIdiRP7T"
      },
      "source": [
        "isotope = [\"\\u03bc$^{99}$Ru\", \"\\u03bc$^{100}$Ru\", \"\\u03bc$^{101}$Ru\", \"\\u03bc$^{102}$Ru\", \"\\u03bc$^{104}$Ru\"]     \n",
        "                                                                                                                                                                      "
      ],
      "execution_count": null,
      "outputs": []
    },
    {
      "cell_type": "code",
      "metadata": {
        "colab": {
          "base_uri": "https://localhost:8080/"
        },
        "id": "X8ThuRF1TycU",
        "outputId": "f42a546c-9dea-41f7-bc0a-25ad383fb9f6"
      },
      "source": [
        "F = 0.000017\n",
        "\n",
        "N_calcA = mix_mfrac(N1A, N2, F)\n",
        "N_calcB = mix_mfrac(N1B, N2, F)\n",
        "N_calcC = mix_mfrac(N1C, N2, F)\n",
        "\n",
        "N_calc2A = mix_mfrac(N1A, N2_calc, F)\n",
        "N_calc2B = mix_mfrac(N1B, N2_calc, F)\n",
        "N_calc2C = mix_mfrac(N1C, N2_calc, F)\n",
        "\n",
        "print(N_calcA)\n",
        "print(N_calcB)\n",
        "print(N_calcC)\n",
        "\n",
        "# N_diffA = []\n",
        "# for i in range(len(N_obsA)):\n",
        "#   N_diffA.append(N_calcA[i] - N_obsA[i])\n",
        "\n",
        "# N_diffB = []\n",
        "# for i in range(len(N_obsA)):\n",
        "#   N_diffB.append(N_calcB[i] - N_obsB[i])\n",
        "\n",
        "N_diffC = []\n",
        "for i in range(len(N_obsA)):\n",
        "  N_diffC.append(N_calcC[i] - N_obsC[i])\n",
        "\n",
        "# N_diff2A = []\n",
        "# for i in range(len(N_obsA)):\n",
        "#   N_diff2A.append(N_calc2A[i] - N_obsA[i])\n",
        "\n",
        "# N_diff2B = []\n",
        "# for i in range(len(N_obsA)):\n",
        "#   N_diff2B.append(N_calc2B[i] - N_obsB[i])\n",
        "\n",
        "N_diff2C = []\n",
        "for i in range(len(N_obsA)):\n",
        "  N_diff2C.append(N_calc2C[i] - N_obsC[i])\n",
        "\n",
        "N_diffsq = [i**2 for i in N_diffC]\n",
        "N_diffsq2 = [i**2 for i in N_diff2C]\n",
        "\n",
        "N_sum = sum(N_diffsq)\n",
        "N_sum2 = sum(N_diffsq2)\n",
        "\n",
        "print(N_sum)\n",
        "print(N_sum2)"
      ],
      "execution_count": null,
      "outputs": [
        {
          "output_type": "stream",
          "name": "stdout",
          "text": [
            "[7.735983596069793e+20, 7.576402799063414e+20, 1.0177040278102576e+21, 1.86766585394965e+21, 1.0849552402809822e+21]\n",
            "[7.736358255503682e+20, 7.576769721021784e+20, 1.0177533160860562e+21, 1.8677250648975404e+21, 1.0848279047220543e+21]\n",
            "[7.739785962538475e+20, 7.579005685501589e+20, 1.0182042476639299e+21, 1.8674798426921933e+21, 1.0834565426463851e+21]\n",
            "3.9863666165695416e+30\n",
            "1.4555734982969506e+32\n"
          ]
        }
      ]
    },
    {
      "cell_type": "code",
      "source": [
        "N1A_ratio = get_iso_ratio(N1A,N1A[2])\n",
        "N1B_ratio = get_iso_ratio(N1B,N1B[2])\n",
        "N1C_ratio = get_iso_ratio(N1C,N1C[2])\n",
        "\n",
        "N_obsA_ratio = get_iso_ratio(N_obsA, N_obsA[2])\n",
        "N_obsB_ratio = get_iso_ratio(N_obsB, N_obsB[2])\n",
        "N_obsC_ratio = get_iso_ratio(N_obsC, N_obsC[2])\n",
        "\n",
        "N_obsA_mu = to_scaled_ratio(N_obsA_ratio, N1A_ratio,'mu')\n",
        "N_obsB_mu = to_scaled_ratio(N_obsB_ratio, N1B_ratio,'mu')\n",
        "N_obsC_mu = to_scaled_ratio(N_obsC_ratio, N1C_ratio,'mu')\n",
        "\n",
        "N_calcA_ratio = get_iso_ratio(N_calcA,N_calcA[2])\n",
        "N_calcB_ratio = get_iso_ratio(N_calcB,N_calcB[2])\n",
        "N_calcC_ratio = get_iso_ratio(N_calcC,N_calcC[2])\n",
        "\n",
        "N_calcA_mu = to_scaled_ratio(N_calcA_ratio, N1A_ratio, 'mu')\n",
        "N_calcB_mu = to_scaled_ratio(N_calcB_ratio, N1B_ratio, 'mu')\n",
        "N_calcC_mu = to_scaled_ratio(N_calcC_ratio, N1C_ratio, 'mu')\n",
        "\n",
        "N_calcA2_ratio = get_iso_ratio(N_calc2A,N_calc2A[2])\n",
        "N_calcB2_ratio = get_iso_ratio(N_calc2B,N_calc2B[2])\n",
        "N_calcC2_ratio = get_iso_ratio(N_calc2C,N_calc2C[2])\n",
        "\n",
        "N_calcA2_mu = to_scaled_ratio(N_calcA2_ratio, N1A_ratio, 'mu')\n",
        "N_calcB2_mu = to_scaled_ratio(N_calcB2_ratio, N1B_ratio, 'mu')\n",
        "N_calcC2_mu = to_scaled_ratio(N_calcC2_ratio, N1C_ratio, 'mu')\n"
      ],
      "metadata": {
        "id": "VgmGOTXuRrcE"
      },
      "execution_count": null,
      "outputs": []
    },
    {
      "cell_type": "code",
      "source": [
        "print(N_calcA_mu)\n",
        "print(N_obsA_mu)\n",
        "print(N_calcA2_mu)"
      ],
      "metadata": {
        "colab": {
          "base_uri": "https://localhost:8080/"
        },
        "id": "k2ZV3T_b1pg4",
        "outputId": "2aac5c31-4a0f-4417-f5af-798935adf1d3"
      },
      "execution_count": null,
      "outputs": [
        {
          "output_type": "stream",
          "name": "stdout",
          "text": [
            "[2.303043014295625, 26.447032332566067, 0.0, 10.514316219456532, -5.273858021515032]\n",
            "[-0.536858417388153, 12.210790811817418, 0.0, 9.712294847918912, 11.842070504419766]\n",
            "[6.88544051374862, 42.19533607185966, 0.0, 14.639255297099751, -6.576495345966826]\n"
          ]
        }
      ]
    },
    {
      "cell_type": "code",
      "source": [
        "error = [10, 12, 0, 16, 30]"
      ],
      "metadata": {
        "id": "CIBWKgGaCdei"
      },
      "execution_count": null,
      "outputs": []
    },
    {
      "cell_type": "markdown",
      "source": [
        "**Plot (Atomic Abudnances in Mu)**\n",
        "---"
      ],
      "metadata": {
        "id": "G-avXUd-1R5z"
      }
    },
    {
      "cell_type": "code",
      "source": [
        "\n",
        "\n",
        "fig = plt.figure()\n",
        "ax = plt.axes() \n",
        "ax.tick_params(axis=\"y\",direction=\"in\")\n",
        "ax.tick_params(axis=\"x\",direction=\"in\")\n",
        "ax.set_title('Manual y', y=1.1, pad=-14)\n",
        "\n",
        "plt.plot(isotope, N_obsA_mu, color = 'black', marker='o', label = 'Isua, Greenland')\n",
        "# plt.plot(isotope, obs_mu_terr, color = 'brown', label = 'measured, avg')\n",
        "plt.plot(isotope, N_calcA_mu, color = 'y', marker='o', label = 'Presolar Grain (Sic)')\n",
        "plt.plot(isotope, N_calcA2_mu, color = 'blue', marker='o', label = 'Theoretical s-process')\n",
        "plt.ylabel('\\u03bc - deviation')\n",
        "plt.title('Measured vs. Calcuated, Data Set A, ' + str(F))\n",
        "plt.axhline(y = 0, color = 'black')\n",
        "leg = plt.legend()\n",
        "plt.savefig(\"DataA.png\",format='png')\n",
        "plt.show()"
      ],
      "metadata": {
        "colab": {
          "base_uri": "https://localhost:8080/",
          "height": 520
        },
        "id": "DirqJ_QN1YHA",
        "outputId": "70a82caa-f7a3-4a40-de8f-dfb2793f37df"
      },
      "execution_count": null,
      "outputs": [
        {
          "output_type": "error",
          "ename": "NameError",
          "evalue": "ignored",
          "traceback": [
            "\u001b[0;31m---------------------------------------------------------------------------\u001b[0m",
            "\u001b[0;31mNameError\u001b[0m                                 Traceback (most recent call last)",
            "\u001b[0;32m<ipython-input-19-e01e641b5a8c>\u001b[0m in \u001b[0;36m<module>\u001b[0;34m()\u001b[0m\n\u001b[1;32m      5\u001b[0m \u001b[0max\u001b[0m\u001b[0;34m.\u001b[0m\u001b[0mset_title\u001b[0m\u001b[0;34m(\u001b[0m\u001b[0;34m'Manual y'\u001b[0m\u001b[0;34m,\u001b[0m \u001b[0my\u001b[0m\u001b[0;34m=\u001b[0m\u001b[0;36m1.1\u001b[0m\u001b[0;34m,\u001b[0m \u001b[0mpad\u001b[0m\u001b[0;34m=\u001b[0m\u001b[0;34m-\u001b[0m\u001b[0;36m14\u001b[0m\u001b[0;34m)\u001b[0m\u001b[0;34m\u001b[0m\u001b[0;34m\u001b[0m\u001b[0m\n\u001b[1;32m      6\u001b[0m \u001b[0;34m\u001b[0m\u001b[0m\n\u001b[0;32m----> 7\u001b[0;31m \u001b[0mplt\u001b[0m\u001b[0;34m.\u001b[0m\u001b[0mplot\u001b[0m\u001b[0;34m(\u001b[0m\u001b[0misotope\u001b[0m\u001b[0;34m,\u001b[0m \u001b[0mN_obsA_mu\u001b[0m\u001b[0;34m,\u001b[0m \u001b[0mcolor\u001b[0m \u001b[0;34m=\u001b[0m \u001b[0;34m'black'\u001b[0m\u001b[0;34m,\u001b[0m \u001b[0mmarker\u001b[0m\u001b[0;34m=\u001b[0m\u001b[0;34m'o'\u001b[0m\u001b[0;34m,\u001b[0m \u001b[0mlabel\u001b[0m \u001b[0;34m=\u001b[0m \u001b[0;34m'Isua, Greenland'\u001b[0m\u001b[0;34m)\u001b[0m\u001b[0;34m\u001b[0m\u001b[0;34m\u001b[0m\u001b[0m\n\u001b[0m\u001b[1;32m      8\u001b[0m \u001b[0;31m# plt.plot(isotope, obs_mu_terr, color = 'brown', label = 'measured, avg')\u001b[0m\u001b[0;34m\u001b[0m\u001b[0;34m\u001b[0m\u001b[0;34m\u001b[0m\u001b[0m\n\u001b[1;32m      9\u001b[0m \u001b[0mplt\u001b[0m\u001b[0;34m.\u001b[0m\u001b[0mplot\u001b[0m\u001b[0;34m(\u001b[0m\u001b[0misotope\u001b[0m\u001b[0;34m,\u001b[0m \u001b[0mN_calcA_mu\u001b[0m\u001b[0;34m,\u001b[0m \u001b[0mcolor\u001b[0m \u001b[0;34m=\u001b[0m \u001b[0;34m'y'\u001b[0m\u001b[0;34m,\u001b[0m \u001b[0mmarker\u001b[0m\u001b[0;34m=\u001b[0m\u001b[0;34m'o'\u001b[0m\u001b[0;34m,\u001b[0m \u001b[0mlabel\u001b[0m \u001b[0;34m=\u001b[0m \u001b[0;34m'Presolar Grain (Sic)'\u001b[0m\u001b[0;34m)\u001b[0m\u001b[0;34m\u001b[0m\u001b[0;34m\u001b[0m\u001b[0m\n",
            "\u001b[0;31mNameError\u001b[0m: name 'isotope' is not defined"
          ]
        },
        {
          "output_type": "display_data",
          "data": {
            "text/plain": [
              "<Figure size 432x288 with 1 Axes>"
            ],
            "image/png": "[encoded data removed]"
          },
          "metadata": {
            "needs_background": "light"
          }
        }
      ]
    },
    {
      "cell_type": "code",
      "source": [
        "fig = plt.figure()\n",
        "ax = plt.axes() \n",
        "ax.tick_params(axis=\"y\",direction=\"in\")\n",
        "ax.tick_params(axis=\"x\",direction=\"in\")\n",
        "ax.set_title('Manual y', y=1.1, pad=-14)\n",
        "\n",
        "plt.plot(isotope, N_obsB_mu, color = 'black', marker='o', label = 'Isua, Greenland')\n",
        "# plt.plot(isotope, obs_mu_terr, color = 'brown', label = 'measured, avg')\n",
        "plt.plot(isotope, N_calcB_mu, color = 'y', marker='o', label = 'Presolar Grain (Sic)')\n",
        "plt.plot(isotope, N_calcB2_mu, color = 'blue', marker='o', label = 'Theoretical s-process')\n",
        "plt.ylabel('\\u03bc - deviation')\n",
        "plt.title('Measured vs. Calcuated, Data Set B, ' + str(F))\n",
        "plt.axhline(y = 0, color = 'black')\n",
        "leg = plt.legend()\n",
        "plt.savefig(\"DataB.pdf\",format='pdf')\n",
        "plt.show()"
      ],
      "metadata": {
        "colab": {
          "base_uri": "https://localhost:8080/",
          "height": 297
        },
        "id": "plosaSYb1_F4",
        "outputId": "920417d3-4882-4c9c-e60b-36d3ec76179f"
      },
      "execution_count": null,
      "outputs": [
        {
          "output_type": "display_data",
          "data": {
            "image/png": "[encoded data removed]",
            "text/plain": [
              "<Figure size 432x288 with 1 Axes>"
            ]
          },
          "metadata": {
            "needs_background": "light"
          }
        }
      ]
    },
    {
      "cell_type": "code",
      "source": [
        "# font = {'size : 40'}\n",
        "# plt.rc('font', family='calibri')\n",
        "plt.rcParams[\"figure.figsize\"] = [6, 5]\n",
        "plt.rcParams[\"figure.autolayout\"] = True\n",
        "# plt.rc('axes', titlesize=17) \n",
        "plt.rc('axes', labelsize=15)\n",
        "plt.rc('xtick', labelsize= 15)\n",
        "plt.rc('ytick', labelsize= 13)\n",
        "plt.rc('legend', fontsize= 13) \n",
        "fig = plt.figure()\n",
        "# plt.style.use('classic')\n",
        "ax = plt.axes() \n",
        "ax.tick_params(axis=\"y\",direction=\"in\")\n",
        "ax.tick_params(axis=\"x\",direction=\"in\")\n",
        "# ax.set_title('Manual y', y=1.05, pad=-14)\n",
        "\n",
        "# plt.plot(isotope, N_obsC_mu, color = 'black', marker='o', label = 'Measured')\n",
        "ax.errorbar(isotope, N_obsC_mu, yerr= error, fmt='o-', color = 'black', label = 'Measured Archean mantle compositon')\n",
        "# plt.plot(isotope, obs_mu_terr, color = 'brown', label = 'measured, avg')\n",
        "plt.plot(isotope, N_calcC_mu, color = 'orangered', marker='o', label = 'Calculated, SiC $s$-process input')\n",
        "plt.plot(isotope, N_calcC2_mu, color = 'blue', marker='o', label = 'Calculated, modeled $s$-process input')\n",
        "plt.ylabel('\\u03bc - deviation')\n",
        "# plt.title('Archean Mantle Ru and Mo Compositions')\n",
        "plt.axhline(y = 0, color = 'gray')\n",
        "leg = plt.legend(loc = 'lower center')\n",
        "plt.savefig(\"DataC.pdf\",format='pdf')\n",
        "plt.show()"
      ],
      "metadata": {
        "colab": {
          "base_uri": "https://localhost:8080/",
          "height": 369
        },
        "id": "IxqVNDEd2DtN",
        "outputId": "9be1d0b0-5552-4639-982f-2d670a670fd3"
      },
      "execution_count": null,
      "outputs": [
        {
          "output_type": "display_data",
          "data": {
            "text/plain": [
              "<Figure size 432x360 with 1 Axes>"
            ],
            "image/png": "[encoded data removed]"
          },
          "metadata": {
            "needs_background": "light"
          }
        }
      ]
    }
  ]
}