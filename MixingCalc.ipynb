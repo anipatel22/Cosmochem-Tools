{
  "nbformat": 4,
  "nbformat_minor": 0,
  "metadata": {
    "colab": {
      "name": "MixingCalc.ipynb",
      "provenance": [],
      "collapsed_sections": [
        "yOAILJ3pl2kp",
        "lCdyt8_QXhz8"
      ]
    },
    "kernelspec": {
      "display_name": "Python 3",
      "name": "python3"
    },
    "language_info": {
      "name": "python"
    }
  },
  "cells": [
    {
      "cell_type": "markdown",
      "metadata": {
        "id": "nCIW4oY0bfvY"
      },
      "source": [
        "This notebooks is useful for determining the required proportion of mixing of two reservoirs to produce a certain isotopic distribution. For instance, if one has a presolar grain sample with anomalous isotopic distribution, one could use this notebook to perhaps find the proportion of standard terrestrial material and s-process material from AGB stars required to produce the anomalies. This would help identiofy if there is an s-process excess or depletion from terrestrial standard, within the sample. // \n",
        "See 'Mixing Calculations' Section for details on formula."
      ]
    },
    {
      "cell_type": "markdown",
      "metadata": {
        "id": "aQHbwP7iZyuA"
      },
      "source": [
        "**Import Necessary Packages**\n",
        "---\n",
        "\n"
      ]
    },
    {
      "cell_type": "markdown",
      "metadata": {
        "id": "yQWA2bgQZ7T2"
      },
      "source": [
        "See https://github.com/anipatel22/Cosmochem-Tools for data_processor file below."
      ]
    },
    {
      "cell_type": "code",
      "metadata": {
        "id": "SG5zfzSTirnP"
      },
      "source": [
        "from data_processor import * "
      ],
      "execution_count": null,
      "outputs": []
    },
    {
      "cell_type": "code",
      "metadata": {
        "id": "uMJMUKN8Ryjr"
      },
      "source": [
        "import sys, io, requests\n",
        "import matplotlib.pyplot as plt\n",
        "import math"
      ],
      "execution_count": null,
      "outputs": []
    },
    {
      "cell_type": "markdown",
      "metadata": {
        "id": "yOAILJ3pl2kp"
      },
      "source": [
        "**DATA PROCESSING** \n",
        "---\n",
        "\n"
      ]
    },
    {
      "cell_type": "markdown",
      "metadata": {
        "id": "1hKVSy2jc0LC"
      },
      "source": [
        "Use this section to process your data into a list format. For instance, if we are interested in perfoming these calculations with the following isotopes: Mo92, Mo94, Mo95, Mo96, then the variables N1, N2, and N_obs should be lists containing mass fraction values of these isotopes: [a, b, c, d] where a is the mass fraction of Mo92 in an N1 sample, b is mass fraction of Mo94 in the sample and so forth. "
      ]
    },
    {
      "cell_type": "markdown",
      "metadata": {
        "id": "kYIz9C118Qv0"
      },
      "source": [
        "(N1)"
      ]
    },
    {
      "cell_type": "code",
      "metadata": {
        "id": "zkHpBqkz8UkW"
      },
      "source": [
        ""
      ],
      "execution_count": null,
      "outputs": []
    },
    {
      "cell_type": "markdown",
      "metadata": {
        "id": "Q3Gx64ijoECj"
      },
      "source": [
        "(N2)"
      ]
    },
    {
      "cell_type": "code",
      "metadata": {
        "id": "DJ5aVWFwl5R8"
      },
      "source": [
        ""
      ],
      "execution_count": null,
      "outputs": []
    },
    {
      "cell_type": "markdown",
      "metadata": {
        "id": "6-eZdCH_pEkv"
      },
      "source": [
        "(N_obs)\n"
      ]
    },
    {
      "cell_type": "code",
      "metadata": {
        "id": "qhjuiCY2pGIY"
      },
      "source": [
        ""
      ],
      "execution_count": null,
      "outputs": []
    },
    {
      "cell_type": "markdown",
      "metadata": {
        "id": "oOhPtfwlRJCQ"
      },
      "source": [
        "**MIXING CALCULATIONS**\n",
        "---"
      ]
    },
    {
      "cell_type": "markdown",
      "metadata": {
        "id": "uPBIEZHtT7CU"
      },
      "source": [
        "Defenition of variables:\n",
        "*   'isotope' is a list storing strigs of the isotopes of interest.\n",
        "*   'N_obs' is a list with observed mass fraction values that we are trying to recreate.\n",
        "*   'N1' is a list with mass fraction values of the the first reservoir we are mixing with 'N2'.\n",
        "*   'N2' is a list with mass fraction values of the secondary constituent reservoir we are mixing with 'N1'.\n",
        "*   'N_calc' is a list to store the calculated mass fractions. Leave this empty.\n",
        "*   F is the 'mixing factor' which we are testing. Ex: If F = 0.05, then there is 5% excess of N2 material added to N1 which produces the values in N_calc.\n",
        "*   'Ndiff' the mass fraction difference between calculated and observed\n",
        "\n",
        "\n",
        "\n"
      ]
    },
    {
      "cell_type": "code",
      "metadata": {
        "id": "JH2vKIdiRP7T"
      },
      "source": [
        "isotope = ['isotope1', 'isotope2', 'etc...']          #insert relevant isotopes here in string list format\n",
        "N_obs =                                               #define a float list for N_obs                          \n",
        "N1 =                                                  #define a float list for N1     \n",
        "N2 =                                                  #define a float list for N2                                                                                                                          "
      ],
      "execution_count": null,
      "outputs": []
    },
    {
      "cell_type": "code",
      "metadata": {
        "id": "X8ThuRF1TycU"
      },
      "source": [
        "F =                                                   #insert desired value of F\n",
        "\n",
        "N_calc = mix_mfrac(N1, N2, F)\n",
        "\n",
        "print(N_calc)\n",
        "\n",
        "N_diff = []\n",
        "for i in range(len(N_obs)):\n",
        "  N_diff.append(N_calc[i] - N_obs[i])\n",
        "\n",
        "print(N_diff)"
      ],
      "execution_count": null,
      "outputs": []
    },
    {
      "cell_type": "markdown",
      "metadata": {
        "id": "FUAepQAIZHTS"
      },
      "source": [
        "We can convert our calculated and observed mass fractions to ratios and a scaled standardized form (delta, epsilon, or mu). See the fucntions in dara_processor to convert teh results from above (N_calc) into desired format (delta, epsilon, or mu)."
      ]
    },
    {
      "cell_type": "code",
      "metadata": {
        "id": "6QxjcVSCZe5f"
      },
      "source": [
        ""
      ],
      "execution_count": 1,
      "outputs": []
    },
    {
      "cell_type": "markdown",
      "metadata": {
        "id": "lCdyt8_QXhz8"
      },
      "source": [
        "**Plot (Mass Fractions)**\n",
        "---"
      ]
    },
    {
      "cell_type": "markdown",
      "metadata": {
        "id": "ktC0_2mQaxh8"
      },
      "source": [
        "Here we plot the mass fractions of observed and calculated. And their differences."
      ]
    },
    {
      "cell_type": "code",
      "metadata": {
        "id": "XsPOA5-OXmoI"
      },
      "source": [
        "plt.plot(isotope, N_obs, color = 'black', label = 'measured')\n",
        "plt.plot(isotope, N_calc, color = 'blue', label = 'calculated')\n",
        "plt.xlabel('isotope')\n",
        "plt.ylabel('mass fraction')\n",
        "plt.title('Measured vs. Calcuated Mass Fractions')\n",
        "leg = plt.legend()\n",
        "plt.show()"
      ],
      "execution_count": null,
      "outputs": []
    },
    {
      "cell_type": "code",
      "metadata": {
        "id": "6FJEDW8dXtSN"
      },
      "source": [
        "plt.plot(isotope, N_diff, color = 'red', label = 'difference')\n",
        "plt.xlabel('isotope')\n",
        "plt.ylabel('mass fraction difference')\n",
        "plt.title('Differences in calculated and observed mass fractions')\n",
        "plt.axhline(y = 0, color = 'gray', linestyle = 'dotted')\n",
        "leg = plt.legend()\n",
        "plt.show()"
      ],
      "execution_count": null,
      "outputs": []
    },
    {
      "cell_type": "markdown",
      "metadata": {
        "id": "orVgUBVhjQQz"
      },
      "source": [
        "**Plot (Scaled Ratios)**\n",
        "---\n",
        "\n"
      ]
    },
    {
      "cell_type": "markdown",
      "metadata": {
        "id": "vBwD1gWLfFR8"
      },
      "source": [
        "Use this section to make plots in scaled format (delta, epsilon, mu). Simply copy and pase the code for the plots above and change the inputs. So convert N_obs and N_calc (which are in mass fractions) to their scaled values and store them in another list. Then instead of plotting N_obs and N_calc, plot the scaled lists."
      ]
    }
  ]
}